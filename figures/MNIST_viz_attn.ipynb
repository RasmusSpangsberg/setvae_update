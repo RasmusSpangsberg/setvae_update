{
 "cells": [
  {
   "cell_type": "markdown",
   "metadata": {},
   "source": [
    "# MNIST Attention Visualization\n",
    "- By running this script, you can get images of attention-based-color-coded Set-MNIST.\n",
    "## To run this code...\n",
    "- You should prepare the summary file by running sample_and_summarize.py with a trained checkpoint.\n",
    "- You should install below libraries.\n",
    "    - matplotlib\n",
    "    - open3d\n",
    "    - numpy\n",
    "    - torch\n",
    "    - torchvision\n",
    "    - tqdm"
   ]
  },
  {
   "cell_type": "code",
   "execution_count": null,
   "metadata": {},
   "outputs": [],
   "source": [
    "import os\n",
    "import random\n",
    "from tqdm.notebook import tqdm\n",
    "import matplotlib.pyplot as plt\n",
    "import open3d as o3d\n",
    "\n",
    "import numpy as np\n",
    "import torch\n",
    "torch.no_grad()\n",
    "from torchvision.utils import save_image, make_grid\n",
    "\n",
    "from draw import draw, draw_attention"
   ]
  },
  {
   "cell_type": "markdown",
   "metadata": {},
   "source": [
    "## Set directories\n",
    "1. summary file path: summary_name\n",
    "2. path to save images: save_dir"
   ]
  },
  {
   "cell_type": "code",
   "execution_count": null,
   "metadata": {},
   "outputs": [],
   "source": [
    "save_dir = 'images_attn'\n",
    "experiment_name = 'mnist/camera-ready'\n",
    "summary_name = os.path.join('../checkpoints/gen/', experiment_name, 'summary.pth')\n",
    "\n",
    "imgdir = os.path.join(save_dir, experiment_name)\n",
    "imgdir_gt = os.path.join(imgdir, 'gt')\n",
    "imgdir_recon = os.path.join(imgdir, 'recon')\n",
    "imgdir_gen = os.path.join(imgdir, 'gen')\n",
    "\n",
    "os.makedirs(save_dir, exist_ok=True)\n",
    "os.makedirs(imgdir_gt, exist_ok=True)\n",
    "os.makedirs(imgdir_recon, exist_ok=True)\n",
    "os.makedirs(imgdir_gen, exist_ok=True)"
   ]
  },
  {
   "cell_type": "code",
   "execution_count": null,
   "metadata": {},
   "outputs": [],
   "source": [
    "summary = torch.load(summary_name)\n",
    "for k, v in summary.items():\n",
    "    try:\n",
    "        print(f\"{k}: {v.shape}\")\n",
    "    except AttributeError:\n",
    "        print(f\"{k}: {len(v)}\")"
   ]
  },
  {
   "cell_type": "markdown",
   "metadata": {},
   "source": [
    "## Select the samples to visualize\n",
    "- parse the samples by index.\n",
    "- below default code will visualize all samples. **Warning: Requires Huge Memory**"
   ]
  },
  {
   "cell_type": "code",
   "execution_count": null,
   "metadata": {},
   "outputs": [],
   "source": [
    "recon_targets = list(range(len(summary['gt_mask'])))[:]\n",
    "gen_targets = list(range(len(summary['smp_mask'])))[:]"
   ]
  },
  {
   "cell_type": "code",
   "execution_count": null,
   "metadata": {},
   "outputs": [],
   "source": [
    "len_att = len(summary['dec_att'])\n",
    "gt = summary['gt_set'][recon_targets]\n",
    "gt_mask = summary['gt_mask'][recon_targets]\n",
    "\n",
    "recon = summary['recon_set'][recon_targets]\n",
    "recon_mask = summary['recon_mask'][recon_targets]\n",
    "\n",
    "dec_att = [summary['dec_att'][l][:, :, recon_targets] for l in range(len_att)]\n",
    "enc_att = [summary['enc_att'][l][:, :, recon_targets] for l in range(len_att)]\n",
    "\n",
    "gen = summary['smp_set'][gen_targets]\n",
    "gen_mask = summary['smp_mask'][gen_targets]\n",
    "gen_att = [summary['smp_att'][l][:, :, gen_targets] for l in range(len_att)]"
   ]
  },
  {
   "cell_type": "markdown",
   "metadata": {},
   "source": [
    "## Visualize Attention\n",
    "- lidx: index of layer\n",
    "- projection: ISAB has 2 projection attention and back-projection attention.\n",
    "    - 0: projection, 1: back-projection"
   ]
  },
  {
   "cell_type": "code",
   "execution_count": null,
   "metadata": {},
   "outputs": [],
   "source": [
    "def attention_selector(gt, gt_mask, att, lidx=0, projection=0):\n",
    "    return draw_attention(gt, gt_mask, att[lidx][projection], color_opt='gist_rainbow', dot_size=300)  # use 300 for multimnist, 700 for mnist"
   ]
  },
  {
   "cell_type": "markdown",
   "metadata": {},
   "source": [
    "### Visualize Encoder Attention on GT samples"
   ]
  },
  {
   "cell_type": "code",
   "execution_count": null,
   "metadata": {
    "scrolled": true
   },
   "outputs": [],
   "source": [
    "for topdown in tqdm(range(len(enc_att))):\n",
    "    for projection in [0]:\n",
    "        gt_imgs = attention_selector(gt, gt_mask, enc_att, len(enc_att) - 1 - topdown, projection)\n",
    "        gt_imgs = [i/255. for i in gt_imgs]\n",
    "        for head in range(enc_att[0][0].shape[0]):\n",
    "            for idx in range(len(recon_targets)):\n",
    "                data_idx = recon_targets[idx]\n",
    "                gt_img = gt_imgs[idx][head]\n",
    "                save_image(gt_img, os.path.join(imgdir_gt, f'{topdown}_{projection}_{head}_{data_idx}.png'))\n",
    "del gt_imgs\n",
    "print('gt DONE')"
   ]
  },
  {
   "cell_type": "markdown",
   "metadata": {},
   "source": [
    "### Visualize Decoder Attention on Reconstructed samples"
   ]
  },
  {
   "cell_type": "code",
   "execution_count": null,
   "metadata": {},
   "outputs": [],
   "source": [
    "for topdown in tqdm(range(len(enc_att))):\n",
    "    for projection in [1]:\n",
    "        recon_imgs = attention_selector(recon, recon_mask, dec_att, topdown, projection)\n",
    "        recon_imgs = [i/255. for i in recon_imgs]\n",
    "        for head in range(enc_att[0][0].shape[0]):\n",
    "            for idx in range(len(recon_targets)):\n",
    "                data_idx = recon_targets[idx]\n",
    "                recon_img = recon_imgs[idx][head]\n",
    "                save_image(recon_img, os.path.join(imgdir_recon, f'{topdown}_{projection}_{head}_{data_idx}.png'))\n",
    "del recon_imgs\n",
    "print('recon DONE')"
   ]
  },
  {
   "cell_type": "markdown",
   "metadata": {},
   "source": [
    "### Visualize Decoder Attention on Generated samples"
   ]
  },
  {
   "cell_type": "code",
   "execution_count": null,
   "metadata": {},
   "outputs": [],
   "source": [
    "for topdown in tqdm(range(len(dec_att))):\n",
    "    for projection in [1,]:\n",
    "        gen_imgs = attention_selector(gen, gen_mask, gen_att, topdown, projection)\n",
    "        gen_imgs = [i/255. for i in gen_imgs]\n",
    "        for head in range(enc_att[0][0].shape[0]):\n",
    "            for idx in range(len(gen_targets)):\n",
    "                data_idx = gen_targets[idx]\n",
    "                gen_img = gen_imgs[idx][head]\n",
    "                save_image(gen_img.float(), os.path.join(imgdir_gen, f'{topdown}_{projection}_{head}_{data_idx}.png'))\n",
    "        del gen_imgs\n",
    "print('gen DONE')"
   ]
  },
  {
   "cell_type": "code",
   "execution_count": null,
   "metadata": {},
   "outputs": [],
   "source": [
    "print('DONE')"
   ]
  },
  {
   "cell_type": "code",
   "execution_count": null,
   "metadata": {},
   "outputs": [],
   "source": []
  }
 ],
 "metadata": {
  "kernelspec": {
   "display_name": "Python 3",
   "language": "python",
   "name": "python3"
  },
  "language_info": {
   "codemirror_mode": {
    "name": "ipython",
    "version": 3
   },
   "file_extension": ".py",
   "mimetype": "text/x-python",
   "name": "python",
   "nbconvert_exporter": "python",
   "pygments_lexer": "ipython3",
   "version": "3.6.9"
  }
 },
 "nbformat": 4,
 "nbformat_minor": 4
}
