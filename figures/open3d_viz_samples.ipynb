{
 "cells": [
  {
   "cell_type": "markdown",
   "metadata": {},
   "source": [
    "# ShapeNet PointCloud Visualization\n",
    "- By running this script, you can get images of pointclouds.\n",
    "## To run this code...\n",
    "- You should prepare the summary file by running sample_and_summarize.py with a trained checkpoint.\n",
    "- **You should prepare a DISPLAY to use open3d.**\n",
    "- You should install below libraries.\n",
    "    - matplotlib\n",
    "    - open3d\n",
    "    - numpy\n",
    "    - torch\n",
    "    - torchvision\n",
    "    - tqdm"
   ]
  },
  {
   "cell_type": "code",
   "execution_count": null,
   "metadata": {},
   "outputs": [],
   "source": [
    "import os\n",
    "import random\n",
    "from tqdm.notebook import tqdm\n",
    "import matplotlib.pyplot as plt\n",
    "import open3d as o3d\n",
    "\n",
    "import numpy as np\n",
    "import torch\n",
    "from torchvision.utils import save_image\n",
    "\n",
    "from draw import draw, draw_open3d"
   ]
  },
  {
   "cell_type": "markdown",
   "metadata": {},
   "source": [
    "## Set directories\n",
    "1. experiment_name: log_name.lstrip('gen/') in scripts\n",
    "2. save_dir: path to save images"
   ]
  },
  {
   "cell_type": "code",
   "execution_count": null,
   "metadata": {},
   "outputs": [],
   "source": [
    "save_dir = 'images'\n",
    "experiment_name = 'shapenet15k-airplane/camera-ready'\n",
    "summary_name = os.path.join('../checkpoints/gen/', experiment_name, 'summary.pth')\n",
    "summary_train_name = os.path.join('../checkpoints/gen/', experiment_name, 'summary_train_recon.pth')\n",
    "\n",
    "imgdir = os.path.join(save_dir, experiment_name)\n",
    "imgdir_gt = os.path.join(imgdir, 'gt')\n",
    "imgdir_recon = os.path.join(imgdir, 'recon')\n",
    "imgdir_gen = os.path.join(imgdir, 'gen')\n",
    "imgdir_gt_train = os.path.join(imgdir, 'gt_train')\n",
    "\n",
    "os.makedirs(save_dir, exist_ok=True)\n",
    "os.makedirs(imgdir_gt, exist_ok=True)\n",
    "os.makedirs(imgdir_recon, exist_ok=True)\n",
    "os.makedirs(imgdir_gen, exist_ok=True)\n",
    "os.makedirs(imgdir_gt_train, exist_ok=True)"
   ]
  },
  {
   "cell_type": "code",
   "execution_count": null,
   "metadata": {},
   "outputs": [],
   "source": [
    "summary = torch.load(summary_name)\n",
    "for k, v in summary.items():\n",
    "    try:\n",
    "        print(f\"{k}: {v.shape}\")\n",
    "    except AttributeError:\n",
    "        print(f\"{k}: {len(v)}\")"
   ]
  },
  {
   "cell_type": "code",
   "execution_count": null,
   "metadata": {},
   "outputs": [],
   "source": [
    "# train\n",
    "summary_train = torch.load(summary_train_name)\n",
    "for k, v in summary_train.items():\n",
    "    try:\n",
    "        print(f\"{k}: {v.shape}\")\n",
    "    except AttributeError:\n",
    "        print(f\"{k}: {len(v)}\")\n",
    "len_att_train = len(summary_train['dec_att'])"
   ]
  },
  {
   "cell_type": "markdown",
   "metadata": {},
   "source": [
    "## Select the samples to visualize\n",
    "- parse the samples by index.\n",
    "- below default code will visualize all samples. **Warning: Requires Huge Memory**"
   ]
  },
  {
   "cell_type": "code",
   "execution_count": null,
   "metadata": {},
   "outputs": [],
   "source": [
    "gen_targets=list(range(len(summary['smp_mask'])))[:]\n",
    "recon_targets=list(range(len(summary['gt_mask'])))[:]\n",
    "\n",
    "gen = summary['smp_set'][gen_targets]\n",
    "if 'smp_mask' in summary.keys():\n",
    "    gen_mask = summary['smp_mask'][gen_targets]\n",
    "else:\n",
    "    gen_mask = torch.zeros_like(gen)[:,:,0].bool()\n",
    "gt = summary['gt_set'][recon_targets]\n",
    "gt_mask = summary['gt_mask'][recon_targets]\n",
    "recon = summary['recon_set'][recon_targets]\n",
    "recon_mask = summary['recon_mask'][recon_targets]"
   ]
  },
  {
   "cell_type": "code",
   "execution_count": null,
   "metadata": {},
   "outputs": [],
   "source": [
    "recon_targets_train = list(range(len(summary_train['gt_mask'])))[:400]\n",
    "\n",
    "gt_train = summary_train['gt_set'][recon_targets_train]\n",
    "gt_mask_train = summary_train['gt_mask'][recon_targets_train]\n",
    "enc_att_train = [summary_train['enc_att'][l][:, :, recon_targets_train] for l in range(len_att_train)]"
   ]
  },
  {
   "cell_type": "markdown",
   "metadata": {},
   "source": [
    "## Visualize"
   ]
  },
  {
   "cell_type": "code",
   "execution_count": null,
   "metadata": {},
   "outputs": [],
   "source": [
    "def visualize(gt, gt_mask):\n",
    "    return draw_open3d(gt, gt_mask, size=5)"
   ]
  },
  {
   "cell_type": "markdown",
   "metadata": {},
   "source": [
    "### Visualize Recon"
   ]
  },
  {
   "cell_type": "code",
   "execution_count": null,
   "metadata": {},
   "outputs": [],
   "source": [
    "recon_imgs = visualize(recon, recon_mask)\n",
    "for idx in range(len(recon_targets)):\n",
    "    data_idx = recon_targets[idx]\n",
    "    if torch.nonzero(recon_imgs[idx].mean(0) != 1).shape[0] == 0:\n",
    "        print(\"SKIP\")\n",
    "        continue\n",
    "    pos_min = torch.nonzero(recon_imgs[idx].mean(0) != 1).min(0)[0]\n",
    "    pos_max = torch.nonzero(recon_imgs[idx].mean(0) != 1).max(0)[0]\n",
    "    recon_img = recon_imgs[idx][:, pos_min[0]:pos_max[0]+1, pos_min[1]:pos_max[1]+1]\n",
    "    save_image(recon_img, os.path.join(imgdir_recon, f'{data_idx}.png'))\n",
    "del recon_img"
   ]
  },
  {
   "cell_type": "markdown",
   "metadata": {},
   "source": [
    "### Visualize GT"
   ]
  },
  {
   "cell_type": "code",
   "execution_count": null,
   "metadata": {},
   "outputs": [],
   "source": [
    "gt_imgs = visualize(gt, gt_mask)\n",
    "for idx in range(len(recon_targets)):\n",
    "    data_idx = recon_targets[idx]\n",
    "    if torch.nonzero(gt_imgs[idx].mean(0) != 1).shape[0] == 0:\n",
    "        print(\"SKIP\")\n",
    "        continue\n",
    "    pos_min = torch.nonzero(gt_imgs[idx].mean(0) != 1).min(0)[0]\n",
    "    pos_max = torch.nonzero(gt_imgs[idx].mean(0) != 1).max(0)[0]\n",
    "    gt_img = gt_imgs[idx][:, pos_min[0]:pos_max[0]+1, pos_min[1]:pos_max[1]+1]\n",
    "    save_image(gt_img, os.path.join(imgdir_gt, f'{data_idx}.png'))\n",
    "del gt_imgs\n",
    "print(\"DONE\")"
   ]
  },
  {
   "cell_type": "markdown",
   "metadata": {},
   "source": [
    "### Visualize Generated Samples"
   ]
  },
  {
   "cell_type": "code",
   "execution_count": null,
   "metadata": {},
   "outputs": [],
   "source": [
    "gen_imgs = visualize(gen, gen_mask)\n",
    "for idx in range(len(gen_targets)):\n",
    "    if torch.nonzero(gen_imgs[idx].mean(0) != 1).shape[0] == 0:\n",
    "        print(\"SKIP\")\n",
    "        continue\n",
    "    data_idx = gen_targets[idx]\n",
    "    pos_min = torch.nonzero(gen_imgs[idx].mean(0) != 1).min(0)[0]\n",
    "    pos_max = torch.nonzero(gen_imgs[idx].mean(0) != 1).max(0)[0]\n",
    "    gen_img = gen_imgs[idx][:, pos_min[0]:pos_max[0]+1, pos_min[1]:pos_max[1]+1]\n",
    "    save_image(gen_img.float(), os.path.join(imgdir_gen, f'{data_idx}.png'))\n",
    "del gen_imgs\n",
    "print(\"DONE\")"
   ]
  },
  {
   "cell_type": "markdown",
   "metadata": {},
   "source": [
    "### Visualize Train Data"
   ]
  },
  {
   "cell_type": "code",
   "execution_count": null,
   "metadata": {},
   "outputs": [],
   "source": [
    "gt_imgs = visualize(gt_train, gt_mask_train)\n",
    "for idx in range(len(recon_targets_train)):\n",
    "    data_idx = recon_targets_train[idx]\n",
    "    if torch.nonzero(gt_imgs[idx].mean(0) != 1).shape[0] == 0:\n",
    "        print(\"SKIP\")\n",
    "        continue\n",
    "    pos_min = torch.nonzero(gt_imgs[idx].mean(0) != 1).min(0)[0]\n",
    "    pos_max = torch.nonzero(gt_imgs[idx].mean(0) != 1).max(0)[0]\n",
    "    gt_img = gt_imgs[idx][:, pos_min[0]:pos_max[0]+1, pos_min[1]:pos_max[1]+1]\n",
    "    save_image(gt_img, os.path.join(imgdir_gt_train, f'{data_idx}.png'))\n",
    "del gt_imgs\n",
    "print('DONE')"
   ]
  },
  {
   "cell_type": "code",
   "execution_count": null,
   "metadata": {},
   "outputs": [],
   "source": []
  }
 ],
 "metadata": {
  "kernelspec": {
   "display_name": "Python 3",
   "language": "python",
   "name": "python3"
  },
  "language_info": {
   "codemirror_mode": {
    "name": "ipython",
    "version": 3
   },
   "file_extension": ".py",
   "mimetype": "text/x-python",
   "name": "python",
   "nbconvert_exporter": "python",
   "pygments_lexer": "ipython3",
   "version": "3.6.9"
  }
 },
 "nbformat": 4,
 "nbformat_minor": 4
}
